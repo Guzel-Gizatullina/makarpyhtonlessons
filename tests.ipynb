{
 "cells": [
  {
   "cell_type": "code",
   "execution_count": 5,
   "metadata": {},
   "outputs": [],
   "source": [
    "def rsp(user1, user2):\n",
    "    if user1=='scissors':\n",
    "        if user2=='paper':\n",
    "            print('user1 have won')\n",
    "        else: \n",
    "            print('user1 have lost')\n",
    "    if user1=='paper':\n",
    "        if user2=='rock':\n",
    "            print('user1 have won')\n",
    "        else:\n",
    "            print('user1 have lost')\n",
    "    if user1=='rock':\n",
    "        if user2=='scissors':\n",
    "            print('user1 have won')\n",
    "        else:\n",
    "            print('user1 have lost')\n"
   ]
  },
  {
   "cell_type": "code",
   "execution_count": 13,
   "metadata": {},
   "outputs": [
    {
     "name": "stdout",
     "output_type": "stream",
     "text": [
      "user1 have lost\n"
     ]
    }
   ],
   "source": [
    "rsp('rock', 'paper')\n"
   ]
  },
  {
   "cell_type": "code",
   "execution_count": null,
   "metadata": {},
   "outputs": [],
   "source": [
    "def word()"
   ]
  }
 ],
 "metadata": {
  "kernelspec": {
   "display_name": "Python 3",
   "language": "python",
   "name": "python3"
  },
  "language_info": {
   "codemirror_mode": {
    "name": "ipython",
    "version": 3
   },
   "file_extension": ".py",
   "mimetype": "text/x-python",
   "name": "python",
   "nbconvert_exporter": "python",
   "pygments_lexer": "ipython3",
   "version": "3.7.6"
  }
 },
 "nbformat": 4,
 "nbformat_minor": 4
}
