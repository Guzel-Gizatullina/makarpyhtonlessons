{
 "cells": [
  {
   "cell_type": "markdown",
   "metadata": {},
   "source": [
    "Дан список стран и городов каждой страны. Затем даны названия городов. Для каждого города укажите, в какой стране он находится.\n",
    "2\n",
    "Russia Moscow Petersburg Novgorod Kaluga\n",
    "Ukraine Kiev Donetsk Odessa\n",
    "3\n",
    "Odessa\n",
    "Moscow\n",
    "Novgorod"
   ]
  },
  {
   "cell_type": "code",
   "execution_count": null,
   "metadata": {},
   "outputs": [],
   "source": [
    "n=int(input())\n",
    "land=dict()\n",
    "for i in range(n):\n",
    "    country, *cities=input().split()\n",
    "    for city in cities:\n",
    "        land[city]=country\n",
    "m=int(input())\n",
    "for i in range(m):\n",
    "    print(lands(input()))\n",
    "    \n",
    "    "
   ]
  },
  {
   "cell_type": "code",
   "execution_count": null,
   "metadata": {},
   "outputs": [],
   "source": [
    "n=int(input())\n",
    "land=dict()\n",
    "for i in range(n):\n",
    "    country, *cities = input().split()\n",
    "    for city in cities:\n",
    "        land[city]=country\n",
    "m=int(input())\n",
    "for i in range(m):\n",
    "    city=input()\n",
    "    print(land[city])\n",
    "    \n",
    "\n"
   ]
  }
 ],
 "metadata": {
  "kernelspec": {
   "display_name": "Python 3",
   "language": "python",
   "name": "python3"
  },
  "language_info": {
   "codemirror_mode": {
    "name": "ipython",
    "version": 3
   },
   "file_extension": ".py",
   "mimetype": "text/x-python",
   "name": "python",
   "nbconvert_exporter": "python",
   "pygments_lexer": "ipython3",
   "version": "3.7.6"
  }
 },
 "nbformat": 4,
 "nbformat_minor": 4
}
